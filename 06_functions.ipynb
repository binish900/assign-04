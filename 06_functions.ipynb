{
  "nbformat": 4,
  "nbformat_minor": 0,
  "metadata": {
    "colab": {
      "provenance": [],
      "authorship_tag": "ABX9TyNI6yDfNMEdT5+01dD5y7zV",
      "include_colab_link": true
    },
    "kernelspec": {
      "name": "python3",
      "display_name": "Python 3"
    },
    "language_info": {
      "name": "python"
    }
  },
  "cells": [
    {
      "cell_type": "markdown",
      "metadata": {
        "id": "view-in-github",
        "colab_type": "text"
      },
      "source": [
        "<a href=\"https://colab.research.google.com/github/binish900/assign-04/blob/main/06_functions.ipynb\" target=\"_parent\"><img src=\"https://colab.research.google.com/assets/colab-badge.svg\" alt=\"Open In Colab\"/></a>"
      ]
    },
    {
      "cell_type": "code",
      "execution_count": 1,
      "metadata": {
        "colab": {
          "base_uri": "https://localhost:8080/"
        },
        "id": "ik5SMd6elIeT",
        "outputId": "bf0f098b-6187-4d1e-a298-995d0e102f1c"
      },
      "outputs": [
        {
          "output_type": "stream",
          "name": "stdout",
          "text": [
            "00_averages\n",
            "Enter numbers separated by commas:\n",
            "→ 65\n",
            "✅ Average of the given numbers: 65.00\n"
          ]
        }
      ],
      "source": [
        "print(\"00_averages\")\n",
        "def calculate_average(numbers):\n",
        "    if not numbers:\n",
        "        return 0\n",
        "    return sum(numbers) / len(numbers)\n",
        "\n",
        "def main():\n",
        "    print(\"Enter numbers separated by commas:\")\n",
        "    user_input = input(\"→ \")\n",
        "\n",
        "    # Convert string input to list of numbers\n",
        "    try:\n",
        "        number_list = [float(num.strip()) for num in user_input.split(\",\")]\n",
        "    except ValueError:\n",
        "        print(\"❌ Invalid input! Please enter valid numbers separated by commas.\")\n",
        "        return\n",
        "\n",
        "    avg = calculate_average(number_list)\n",
        "    print(f\"✅ Average of the given numbers: {avg:.2f}\")\n",
        "\n",
        "if __name__ == \"__main__\":\n",
        "    main()\n"
      ]
    },
    {
      "cell_type": "code",
      "source": [
        "import random\n",
        "import time\n",
        "\n",
        "print(\"01_chaotic_countin\")\n",
        "def chaotic_counting(start, end, delay=0.5):\n",
        "    numbers = list(range(start, end + 1))\n",
        "    random.shuffle(numbers)  # Random order\n",
        "\n",
        "    print(\"🤪 Chaotic Counting Begins!\")\n",
        "    for number in numbers:\n",
        "        print(number)\n",
        "        time.sleep(delay)  # Small delay for effect\n",
        "    print(\"🎉 Done with chaotic counting!\")\n",
        "\n",
        "def main():\n",
        "    print(\"Enter start and end numbers for chaotic counting.\")\n",
        "    try:\n",
        "        start = int(input(\"Start → \"))\n",
        "        end = int(input(\"End → \"))\n",
        "\n",
        "        if start > end:\n",
        "            print(\"❌ Start should be less than or equal to end!\")\n",
        "            return\n",
        "\n",
        "        chaotic_counting(start, end)\n",
        "    except ValueError:\n",
        "        print(\"❌ Invalid input! Please enter integers only.\")\n",
        "\n",
        "if __name__ == \"__main__\":\n",
        "    main()"
      ],
      "metadata": {
        "colab": {
          "base_uri": "https://localhost:8080/"
        },
        "id": "lC-r05mmlqyN",
        "outputId": "6bbbad92-314c-49f4-d197-344746647766"
      },
      "execution_count": 2,
      "outputs": [
        {
          "output_type": "stream",
          "name": "stdout",
          "text": [
            "01_chaotic_countin\n",
            "Enter start and end numbers for chaotic counting.\n",
            "Start → 653\n",
            "End → 765\n",
            "🤪 Chaotic Counting Begins!\n",
            "761\n",
            "693\n",
            "662\n",
            "749\n",
            "716\n",
            "758\n",
            "765\n",
            "741\n",
            "745\n",
            "695\n",
            "764\n",
            "743\n",
            "751\n",
            "653\n",
            "759\n",
            "732\n",
            "705\n",
            "681\n",
            "753\n",
            "742\n",
            "739\n",
            "685\n",
            "731\n",
            "694\n",
            "700\n",
            "715\n",
            "667\n",
            "703\n",
            "690\n",
            "663\n",
            "666\n",
            "689\n",
            "655\n",
            "730\n",
            "676\n",
            "752\n",
            "710\n",
            "763\n",
            "661\n",
            "738\n",
            "692\n",
            "688\n",
            "698\n",
            "665\n",
            "748\n",
            "702\n",
            "744\n",
            "720\n",
            "721\n",
            "711\n",
            "675\n",
            "737\n",
            "706\n",
            "712\n",
            "729\n",
            "735\n",
            "660\n",
            "740\n",
            "683\n",
            "726\n",
            "701\n",
            "746\n",
            "733\n",
            "656\n",
            "704\n",
            "674\n",
            "658\n",
            "756\n",
            "697\n",
            "750\n",
            "708\n",
            "691\n",
            "717\n",
            "722\n",
            "757\n",
            "664\n",
            "678\n",
            "727\n",
            "673\n",
            "723\n",
            "762\n",
            "684\n",
            "677\n",
            "760\n",
            "670\n",
            "654\n",
            "724\n",
            "657\n",
            "687\n",
            "686\n",
            "707\n",
            "680\n",
            "668\n",
            "747\n",
            "713\n",
            "709\n",
            "728\n",
            "718\n",
            "679\n",
            "725\n",
            "669\n",
            "682\n",
            "734\n",
            "754\n",
            "699\n",
            "672\n",
            "659\n",
            "755\n",
            "696\n",
            "714\n",
            "671\n",
            "736\n",
            "719\n",
            "🎉 Done with chaotic counting!\n"
          ]
        }
      ]
    },
    {
      "cell_type": "code",
      "source": [
        "print(\"02_count_even\")\n",
        "def count_even_numbers(numbers):\n",
        "    even_numbers = [num for num in numbers if num % 2 == 0]\n",
        "    return len(even_numbers), even_numbers\n",
        "\n",
        "def main():\n",
        "    print(\"Enter numbers separated by commas:\")\n",
        "    user_input = input(\"→ \")\n",
        "\n",
        "    try:\n",
        "        number_list = [int(num.strip()) for num in user_input.split(\",\")]\n",
        "    except ValueError:\n",
        "        print(\"❌ Invalid input! Please enter integers only.\")\n",
        "        return\n",
        "\n",
        "    count, evens = count_even_numbers(number_list)\n",
        "    print(f\"✅ Total even numbers: {count}\")\n",
        "    print(f\"Even numbers: {evens}\")\n",
        "\n",
        "if __name__ == \"__main__\":\n",
        "    main()\n"
      ],
      "metadata": {
        "colab": {
          "base_uri": "https://localhost:8080/"
        },
        "id": "vq-j8s9KmBsr",
        "outputId": "c5c99a6c-beda-415f-e2dc-8b4017e7f902"
      },
      "execution_count": 3,
      "outputs": [
        {
          "output_type": "stream",
          "name": "stdout",
          "text": [
            "02_count_even\n",
            "Enter numbers separated by commas:\n",
            "→ 65\n",
            "✅ Total even numbers: 0\n",
            "Even numbers: []\n"
          ]
        }
      ]
    },
    {
      "cell_type": "code",
      "source": [
        "print(\"04_double\")\n",
        "\n",
        "def double_numbers(numbers):\n",
        "    return [num * 2 for num in numbers]\n",
        "\n",
        "def main():\n",
        "    print(\"Enter numbers separated by commas to double them:\")\n",
        "    user_input = input(\"→ \")\n",
        "\n",
        "    try:\n",
        "        number_list = [int(num.strip()) for num in user_input.split(\",\")]\n",
        "    except ValueError:\n",
        "        print(\"❌ Invalid input! Please enter integers only.\")\n",
        "        return\n",
        "\n",
        "    doubled = double_numbers(number_list)\n",
        "    print(f\"✅ Doubled numbers: {doubled}\")\n",
        "\n",
        "if __name__ == \"__main__\":\n",
        "    main()"
      ],
      "metadata": {
        "colab": {
          "base_uri": "https://localhost:8080/"
        },
        "id": "HHpobIynmFIZ",
        "outputId": "c6803b34-45eb-432d-82b3-316edfd0f962"
      },
      "execution_count": 4,
      "outputs": [
        {
          "output_type": "stream",
          "name": "stdout",
          "text": [
            "04_double\n",
            "Enter numbers separated by commas to double them:\n",
            "→ 65\n",
            "✅ Doubled numbers: [130]\n"
          ]
        }
      ]
    },
    {
      "cell_type": "code",
      "source": [
        "print(\"05_get_name\")\n",
        "\n",
        "def get_name():\n",
        "    name = input(\"👋 What's your name? → \").strip()\n",
        "\n",
        "    if not name:\n",
        "        print(\"⚠️ You didn't enter a name!\")\n",
        "    else:\n",
        "        print(f\"🎉 Hello, {name}! Nice to meet you!\")\n",
        "\n",
        "def main():\n",
        "    get_name()\n",
        "\n",
        "if __name__ == \"__main__\":\n",
        "    main()"
      ],
      "metadata": {
        "colab": {
          "base_uri": "https://localhost:8080/"
        },
        "id": "9AZxUmA5mLSx",
        "outputId": "6844e88c-d06f-448c-e425-ca24425671f0"
      },
      "execution_count": 5,
      "outputs": [
        {
          "output_type": "stream",
          "name": "stdout",
          "text": [
            "05_get_name\n",
            "👋 What's your name? → 65\n",
            "🎉 Hello, 65! Nice to meet you!\n"
          ]
        }
      ]
    },
    {
      "cell_type": "code",
      "source": [
        "print(\"06_is_odd\")\n",
        "\n",
        "def is_odd(number):\n",
        "    return number % 2 != 0\n",
        "\n",
        "def main():\n",
        "    try:\n",
        "        num = int(input(\"🔢 Enter a number to check if it's odd: → \"))\n",
        "    except ValueError:\n",
        "        print(\"❌ Invalid input! Please enter a valid integer.\")\n",
        "        return\n",
        "\n",
        "    if is_odd(num):\n",
        "        print(f\"✅ {num} is an odd number.\")\n",
        "    else:\n",
        "        print(f\"❌ {num} is not an odd number (it's even).\")\n",
        "\n",
        "if __name__ == \"__main__\":\n",
        "    main()"
      ],
      "metadata": {
        "colab": {
          "base_uri": "https://localhost:8080/"
        },
        "id": "gSnNyGDXmY78",
        "outputId": "0dbe36a2-e996-4133-9f98-c830ba389747"
      },
      "execution_count": 6,
      "outputs": [
        {
          "output_type": "stream",
          "name": "stdout",
          "text": [
            "06_is_odd\n",
            "🔢 Enter a number to check if it's odd: → 87\n",
            "✅ 87 is an odd number.\n"
          ]
        }
      ]
    },
    {
      "cell_type": "code",
      "source": [
        "print(\"07_print_divisor\")\n",
        "\n",
        "def print_divisors(n):\n",
        "    print(f\"🔍 Divisors of {n} are:\")\n",
        "    for i in range(1, n + 1):\n",
        "        if n % i == 0:\n",
        "            print(f\"➤ {i}\")\n",
        "\n",
        "def main():\n",
        "    try:\n",
        "        num = int(input(\"🔢 Enter a number to find its divisors: → \"))\n",
        "        if num <= 0:\n",
        "            print(\"⚠️ Please enter a positive integer greater than 0.\")\n",
        "            return\n",
        "    except ValueError:\n",
        "        print(\"❌ Invalid input! Please enter a valid number.\")\n",
        "        return\n",
        "\n",
        "    print_divisors(num)\n",
        "\n",
        "if __name__ == \"__main__\":\n",
        "    main()\n"
      ],
      "metadata": {
        "colab": {
          "base_uri": "https://localhost:8080/"
        },
        "id": "Rgaphf_fmjPL",
        "outputId": "cdba6791-17a3-458b-e99d-fa79f1dcc0e2"
      },
      "execution_count": 7,
      "outputs": [
        {
          "output_type": "stream",
          "name": "stdout",
          "text": [
            "07_print_divisor\n",
            "🔢 Enter a number to find its divisors: → 98\n",
            "🔍 Divisors of 98 are:\n",
            "➤ 1\n",
            "➤ 2\n",
            "➤ 7\n",
            "➤ 14\n",
            "➤ 49\n",
            "➤ 98\n"
          ]
        }
      ]
    },
    {
      "cell_type": "code",
      "source": [
        "print(\"08_print_multiple\")\n",
        "\n",
        "def print_multiples(n, count):\n",
        "    print(f\"🧮 First {count} multiples of {n} are:\")\n",
        "    for i in range(1, count + 1):\n",
        "        print(f\"➤ {n} × {i} = {n * i}\")\n",
        "\n",
        "def main():\n",
        "    try:\n",
        "        num = int(input(\"🔢 Enter a number to find its multiples: → \"))\n",
        "        count = int(input(\"🔁 How many multiples do you want to see? → \"))\n",
        "        if num <= 0 or count <= 0:\n",
        "            print(\"⚠️ Please enter positive numbers only.\")\n",
        "            return\n",
        "    except ValueError:\n",
        "        print(\"❌ Invalid input! Please enter integers only.\")\n",
        "        return\n",
        "\n",
        "    print_multiples(num, count)\n",
        "\n",
        "if __name__ == \"__main__\":\n",
        "    main()"
      ],
      "metadata": {
        "colab": {
          "base_uri": "https://localhost:8080/"
        },
        "id": "onraabXNmtxA",
        "outputId": "760f3b7e-22bd-45ed-ea01-525dbdb1efcd"
      },
      "execution_count": 8,
      "outputs": [
        {
          "output_type": "stream",
          "name": "stdout",
          "text": [
            "08_print_multiple\n",
            "🔢 Enter a number to find its multiples: → 76\n",
            "🔁 How many multiples do you want to see? → \n",
            "❌ Invalid input! Please enter integers only.\n"
          ]
        }
      ]
    },
    {
      "cell_type": "code",
      "source": [
        "import random\n",
        "\n",
        "print(\"09_sentence_generator\")\n",
        "# Word lists\n",
        "nouns = [\"cat\", \"boy\", \"girl\", \"dog\", \"robot\"]\n",
        "verbs = [\"eats\", \"plays with\", \"runs to\", \"looks at\", \"builds\"]\n",
        "places = [\"the park\", \"school\", \"home\", \"the moon\", \"a castle\"]\n",
        "\n",
        "def generate_sentence():\n",
        "    noun = random.choice(nouns)\n",
        "    verb = random.choice(verbs)\n",
        "    place = random.choice(places)\n",
        "    return f\"The {noun} {verb} {place}.\"\n",
        "\n",
        "def main():\n",
        "    try:\n",
        "        count = int(input(\"📄 How many sentences do you want to generate? → \"))\n",
        "        if count <= 0:\n",
        "            print(\"⚠️ Please enter a positive number.\")\n",
        "            return\n",
        "    except ValueError:\n",
        "        print(\"❌ Invalid input! Please enter a valid number.\")\n",
        "        return\n",
        "\n",
        "    print(\"\\n📝 Generated Sentences:\")\n",
        "    for _ in range(count):\n",
        "        print(\"➤\", generate_sentence())\n",
        "\n",
        "if __name__ == \"__main__\":\n",
        "    main()"
      ],
      "metadata": {
        "colab": {
          "base_uri": "https://localhost:8080/"
        },
        "id": "KfdOMWKJmzgL",
        "outputId": "ff08a537-d028-4196-e41e-8fdc0133fe86"
      },
      "execution_count": 9,
      "outputs": [
        {
          "output_type": "stream",
          "name": "stdout",
          "text": [
            "09_sentence_generator\n",
            "📄 How many sentences do you want to generate? → love\n",
            "❌ Invalid input! Please enter a valid number.\n"
          ]
        }
      ]
    },
    {
      "cell_type": "code",
      "source": [
        "print(\"10_print_ones_digit\")\n",
        "\n",
        "def get_ones_digit(number):\n",
        "    return abs(number) % 10  # Negative number handle karne ke liye abs()\n",
        "\n",
        "def main():\n",
        "    try:\n",
        "        num = int(input(\"🔢 Enter a number: → \"))\n",
        "    except ValueError:\n",
        "        print(\"❌ Please enter a valid integer.\")\n",
        "        return\n",
        "\n",
        "    ones_digit = get_ones_digit(num)\n",
        "    print(f\"🧮 The ones digit of {num} is: {ones_digit}\")\n",
        "\n",
        "if __name__ == \"__main__\":\n",
        "    main()\n"
      ],
      "metadata": {
        "colab": {
          "base_uri": "https://localhost:8080/"
        },
        "id": "KPQ2q67Lm72K",
        "outputId": "1a552a77-6436-4c76-c0ac-fa28afc648d0"
      },
      "execution_count": 10,
      "outputs": [
        {
          "output_type": "stream",
          "name": "stdout",
          "text": [
            "10_print_ones_digit\n",
            "🔢 Enter a number: → 64\n",
            "🧮 The ones digit of 64 is: 4\n"
          ]
        }
      ]
    }
  ]
}