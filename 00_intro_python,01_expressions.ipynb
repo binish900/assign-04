{
  "nbformat": 4,
  "nbformat_minor": 0,
  "metadata": {
    "colab": {
      "provenance": [],
      "authorship_tag": "ABX9TyP4MJu+sYhZFAymK6xs1oER",
      "include_colab_link": true
    },
    "kernelspec": {
      "name": "python3",
      "display_name": "Python 3"
    },
    "language_info": {
      "name": "python"
    }
  },
  "cells": [
    {
      "cell_type": "markdown",
      "metadata": {
        "id": "view-in-github",
        "colab_type": "text"
      },
      "source": [
        "<a href=\"https://colab.research.google.com/github/binish900/assign-04/blob/main/00_intro_python%2C01_expressions.ipynb\" target=\"_parent\"><img src=\"https://colab.research.google.com/assets/colab-badge.svg\" alt=\"Open In Colab\"/></a>"
      ]
    },
    {
      "cell_type": "code",
      "execution_count": null,
      "metadata": {
        "colab": {
          "base_uri": "https://localhost:8080/"
        },
        "id": "S0OXkKpXlzRR",
        "outputId": "8aa112c7-e274-41ab-e861-520998ddae59"
      },
      "outputs": [
        {
          "output_type": "stream",
          "name": "stdout",
          "text": [
            "01_add_two_numbers\n",
            "This application for add two numbers\n",
            "Enter your first number5\n",
            "Enter your second number7\n",
            "The total sum of 5 and 7 is 12\n"
          ]
        }
      ],
      "source": [
        "print(\"01_add_two_numbers\")\n",
        "\n",
        "def add():\n",
        "    print(\"This application for add two numbers\")\n",
        "    first_number = int(input(\"Enter your first number\"))\n",
        "    second_number = int(input(\"Enter your second number\"))\n",
        "    total = int(first_number + second_number)\n",
        "    print(f'The total sum of {first_number} and {second_number} is {total}')\n",
        "\n",
        "if __name__ == \"__main__\":\n",
        "   add()"
      ]
    },
    {
      "cell_type": "code",
      "source": [
        "print(\"02_agreement_bot\")\n",
        "\n",
        "def bot():\n",
        "  animal = str(input(\"what is your favourite animal?\"))\n",
        "  print(f'\"My favorite animal is also {animal}!')\n",
        "\n",
        "if __name__==\"__main__\":\n",
        "  bot()"
      ],
      "metadata": {
        "colab": {
          "base_uri": "https://localhost:8080/"
        },
        "id": "jxTopjclvNcD",
        "outputId": "b601abd8-8c7b-4cbf-b26d-2e62819289ab"
      },
      "execution_count": null,
      "outputs": [
        {
          "output_type": "stream",
          "name": "stdout",
          "text": [
            "02_agreement_bot\n",
            "what is your favourite animal?dog\n",
            "\"My favorite animal is also dog!\n"
          ]
        }
      ]
    },
    {
      "cell_type": "code",
      "source": [
        "print(\"03_fahrenheit_to_celsius\")\n",
        "\n",
        "def temp():\n",
        "  print(\"This code for converting fahrenheit to celsius\")\n",
        "  fahrenheit_degree = float(input(\"Enter your fahrenheit degree.\"))\n",
        "  celsius_degree = (fahrenheit_degree - 32) * 5.0/90\n",
        "  print(f'Temperature {fahrenheit_degree} F = {celsius_degree} C')\n",
        "\n",
        "if __name__==\"__main__\":\n",
        "  temp()\n"
      ],
      "metadata": {
        "colab": {
          "base_uri": "https://localhost:8080/"
        },
        "id": "JCsAgx_sxIjp",
        "outputId": "7639f5c9-9f5d-4cb5-b811-141f43d2589a"
      },
      "execution_count": null,
      "outputs": [
        {
          "output_type": "stream",
          "name": "stdout",
          "text": [
            "03_fahrenheit_to_celsius\n",
            "This code for converting fahrenheit to celsius\n",
            "Enter your fahrenheit degree.76\n",
            "Temperature 76.0 F = 2.4444444444444446 C\n"
          ]
        }
      ]
    },
    {
      "cell_type": "code",
      "source": [
        "print(\"04_how_old_are_they\")\n",
        "\n",
        "def add_ages():\n",
        "  anthon:int = 21\n",
        "  beth:int = anthon + 6\n",
        "  chen:int = beth + 20\n",
        "  drew :int = chen + anthon\n",
        "  ethan:int = chen\n",
        "\n",
        "  print(\"anthon is \" + str(anthon))\n",
        "  print(\"beth is \" + str(beth))\n",
        "  print(\"chen is \" + str(chen))\n",
        "  print(\"drew is \" + str(drew))\n",
        "  print(\"ethan is \" + str(ethan))\n",
        "\n",
        "if __name__ == \"__main__\":\n",
        "  add_ages()\n"
      ],
      "metadata": {
        "colab": {
          "base_uri": "https://localhost:8080/"
        },
        "id": "ukiVBI6Oz2GD",
        "outputId": "8077ec3e-aae2-4aff-f0d2-d51eeadbff8f"
      },
      "execution_count": null,
      "outputs": [
        {
          "output_type": "stream",
          "name": "stdout",
          "text": [
            "04_how_old_are_they\n",
            "anthon is 21\n",
            "beth is 27\n",
            "chen is 47\n",
            "drew is 68\n",
            "ethan is 47\n"
          ]
        }
      ]
    },
    {
      "cell_type": "code",
      "source": [
        "print(\"05_triangle_perimete\")\n",
        "\n",
        "def main():\n",
        "\n",
        "    side1: float = float(input(\"What is the length of side 1? \"))\n",
        "    side2: float = float(input(\"What is the length of side 2? \"))\n",
        "    side3: float = float(input(\"What is the length of side 3? \"))\n",
        "\n",
        "\n",
        "    print(\"The perimeter of the triangle is \" + str(side1 + side2 + side3))\n",
        "\n",
        "if __name__ == '__main__':\n",
        "    main()"
      ],
      "metadata": {
        "colab": {
          "base_uri": "https://localhost:8080/"
        },
        "id": "X6KFksuBlGM2",
        "outputId": "446f23ff-933f-4c9d-ad9d-407c98cd6f06"
      },
      "execution_count": null,
      "outputs": [
        {
          "output_type": "stream",
          "name": "stdout",
          "text": [
            "05_triangle_perimete\n",
            "What is the length of side 1? 6\n",
            "What is the length of side 2? 7\n",
            "What is the length of side 3? 8\n",
            "The perimeter of the triangle is 21.0\n"
          ]
        }
      ]
    },
    {
      "cell_type": "code",
      "source": [
        "print(\"06_square_numbe\")\n",
        "\n",
        "def main():\n",
        "    num: float = float(input(\"Type a number to see its square: \"))\n",
        "    print(str(num) + \" squared is \" + str(num ** 2))\n",
        "\n",
        "if __name__ == '__main__':\n",
        "    main()\n"
      ],
      "metadata": {
        "id": "N0XjzDIkmyef",
        "colab": {
          "base_uri": "https://localhost:8080/"
        },
        "outputId": "f402ab23-cc28-44ff-b792-3bcff6f9abd7"
      },
      "execution_count": null,
      "outputs": [
        {
          "output_type": "stream",
          "name": "stdout",
          "text": [
            "06_square_numbe\n",
            "Type a number to see its square: 6\n",
            "6.0 squared is 36.0\n"
          ]
        }
      ]
    },
    {
      "cell_type": "code",
      "source": [
        "print(\"01_dicesimulator\")\n",
        "\n",
        "\n",
        "import random\n",
        "\n",
        "NUM_SIDES = 6\n",
        "\n",
        "def roll_dice():\n",
        "    \"\"\"\n",
        "    Simulates rolling two dice and prints their total\n",
        "    \"\"\"\n",
        "    die1: int = random.randint(1, NUM_SIDES)\n",
        "    die2: int = random.randint(1, NUM_SIDES)\n",
        "    total: int = die1 + die2\n",
        "    print(\"Total of two dice:\", total)\n",
        "\n",
        "def main():\n",
        "    die1: int = 10\n",
        "    print(\"die1 in main() starts as: \" + str(die1))\n",
        "    roll_dice()\n",
        "    roll_dice()\n",
        "    roll_dice()\n",
        "    print(\"die1 in main() is: \" + str(die1))\n",
        "\n",
        "if __name__ == '__main__':\n",
        "    main()\n"
      ],
      "metadata": {
        "id": "O8cSoQtVohCZ",
        "colab": {
          "base_uri": "https://localhost:8080/"
        },
        "outputId": "ddc3b560-987d-438d-fe61-fe2a224a0eb3"
      },
      "execution_count": null,
      "outputs": [
        {
          "output_type": "stream",
          "name": "stdout",
          "text": [
            "die1 in main() starts as: 10\n",
            "Total of two dice: 10\n",
            "Total of two dice: 7\n",
            "Total of two dice: 3\n",
            "die1 in main() is: 10\n"
          ]
        }
      ]
    },
    {
      "cell_type": "code",
      "source": [
        "print(\"02_e=mc2\")\n",
        "\n",
        "C: int = 299792458\n",
        "\n",
        "def main():\n",
        "    mass_in_kg: float = float(input(\"Enter kilos of mass: \"))\n",
        "\n",
        "\n",
        "    energy_in_joules: float = mass_in_kg * (C ** 2)\n",
        "\n",
        "\n",
        "    print(\"e = m * C^2...\")\n",
        "    print(\"m = \" + str(mass_in_kg) + \" kg\")\n",
        "    print(\"C = \" + str(C) + \" m/s\")\n",
        "\n",
        "    print(str(energy_in_joules) + \" joules of energy!\")\n",
        "\n",
        "if __name__ == '__main__':\n",
        "    main()\n"
      ],
      "metadata": {
        "colab": {
          "base_uri": "https://localhost:8080/"
        },
        "id": "eecFfLzZp-cH",
        "outputId": "bede39d7-d532-4a3f-df1c-e9fdc1d6d5e2"
      },
      "execution_count": null,
      "outputs": [
        {
          "output_type": "stream",
          "name": "stdout",
          "text": [
            "02_e=mc2\n",
            "Enter kilos of mass: 450\n",
            "e = m * C^2...\n",
            "m = 450.0 kg\n",
            "C = 299792458 m/s\n",
            "4.0443983043156795e+19 joules of energy!\n"
          ]
        }
      ]
    },
    {
      "cell_type": "code",
      "source": [
        "print(\"03_feet_to_inche\")\n",
        "\n",
        "INCHES_IN_FOOT: int = 12\n",
        "def main():\n",
        "\n",
        "    feet: float = float(input(\"Enter number of feet: \"))\n",
        "    inches: float = feet * INCHES_IN_FOOT\n",
        "    print(\"That is\", inches, \"inches!\")\n",
        "\n",
        "\n",
        "\n",
        "\n",
        "if __name__ == '__main__':\n",
        "    main()\n"
      ],
      "metadata": {
        "id": "iL9QLQlBnsB0",
        "colab": {
          "base_uri": "https://localhost:8080/"
        },
        "outputId": "a83d3083-c1cb-4b2c-da27-702050b9a95b"
      },
      "execution_count": null,
      "outputs": [
        {
          "output_type": "stream",
          "name": "stdout",
          "text": [
            "03_feet_to_inche\n",
            "Enter number of feet: 65\n",
            "That is 780.0 inches!\n"
          ]
        }
      ]
    },
    {
      "cell_type": "code",
      "source": [
        "print(\"04_pythagorean_theorem\")\n",
        "\n",
        "import math\n",
        "\n",
        "def main():\n",
        "\n",
        "    ab: float = float(input(\"Enter the length of AB: \"))\n",
        "    ac: float = float(input(\"Enter the length of AC: \"))\n",
        "\n",
        "\n",
        "    bc: float = math.sqrt(ab**2 + ac**2)\n",
        "    print(\"The length of BC (the hypotenuse) is: \" + str(bc))\n",
        "\n",
        "if __name__ == '__main__':\n",
        "    main()\n"
      ],
      "metadata": {
        "colab": {
          "base_uri": "https://localhost:8080/"
        },
        "id": "dtka2818vqKD",
        "outputId": "c139015c-8f61-480d-c9df-26dfd026c7d4"
      },
      "execution_count": null,
      "outputs": [
        {
          "output_type": "stream",
          "name": "stdout",
          "text": [
            "04_pythagorean_theorem\n",
            "Enter the length of AB: 654\n",
            "Enter the length of AC: 754\n",
            "The length of BC (the hypotenuse) is: 998.1142219205175\n"
          ]
        }
      ]
    },
    {
      "cell_type": "code",
      "source": [
        "print(\"05_remainder_division\")\n",
        "\n",
        "\n",
        "def main():\n",
        "    print(\"Delete this line and write your code here! :)\")\n",
        "\n",
        "\n",
        "if __name__ == '__main__':\n",
        "    main()\n",
        "\n",
        "def main():\n",
        "\n",
        "    dividend: int = int(input(\"Please enter an integer to be divided: \"))\n",
        "    divisor: int = int(input(\"Please enter an integer to divide by: \"))\n",
        "\n",
        "    quotient: int = dividend // divisor\n",
        "    remainder: int = dividend % divisor\n",
        "\n",
        "    print(\"The result of this division is \" + str(quotient) + \" with a remainder of \" + str(remainder))\n",
        "\n",
        "\n",
        "\n",
        "if __name__ == '__main__':\n",
        "    main()"
      ],
      "metadata": {
        "colab": {
          "base_uri": "https://localhost:8080/"
        },
        "id": "ReCbI6OIwd7U",
        "outputId": "d0142a3a-f5de-44cf-edd3-807d11e3adb7"
      },
      "execution_count": null,
      "outputs": [
        {
          "output_type": "stream",
          "name": "stdout",
          "text": [
            "05_remainder_division\n",
            "Delete this line and write your code here! :)\n",
            "Please enter an integer to be divided: 5543\n",
            "Please enter an integer to divide by: 6533\n",
            "The result of this division is 0 with a remainder of 5543\n"
          ]
        }
      ]
    },
    {
      "cell_type": "code",
      "source": [
        "print(\"06_rolldice\")\n",
        "\n",
        "import math\n",
        "\n",
        "def main():\n",
        "\n",
        "    ab: float = float(input(\"Enter the length of AB: \"))\n",
        "    ac: float = float(input(\"Enter the length of AC: \"))\n",
        "\n",
        "\n",
        "    bc: float = math.sqrt(ab**2 + ac**2)\n",
        "    print(\"The length of BC (the hypotenuse) is: \" + str(bc))\n",
        "\n",
        "\n",
        "    dividend: int = int(input(\"Please enter an integer to be divided: \"))\n",
        "    divisor: int = int(input(\"Please enter an integer to divide by: \"))\n",
        "\n",
        "    quotient: int = dividend // divisor\n",
        "    remainder: int = dividend % divisor\n",
        "    print(\"The result of this division is \" + str(quotient) + \" with a remainder of \" + str(remainder))\n",
        "    import random\n",
        "\n",
        "\n",
        "    NUM_SIDES: int = 6\n",
        "\n",
        "\n",
        "    die1: int = random.randint(1, NUM_SIDES)\n",
        "    die2: int = random.randint(1, NUM_SIDES)\n",
        "\n",
        "\n",
        "    total: int = die1 + die2\n",
        "\n",
        "\n",
        "    print(\"Dice have\", NUM_SIDES, \"sides each.\")\n",
        "    print(\"First die:\", die1)\n",
        "    print(\"Second die:\", die2)\n",
        "    print(\"Total of two dice:\", total)\n",
        "\n",
        "if __name__ == '__main__':\n",
        "    main()\n"
      ],
      "metadata": {
        "colab": {
          "base_uri": "https://localhost:8080/"
        },
        "id": "ut5ZE657xFr0",
        "outputId": "ea0595ce-706d-4e73-f167-c3b3c3488019"
      },
      "execution_count": null,
      "outputs": [
        {
          "output_type": "stream",
          "name": "stdout",
          "text": [
            "06_rolldice\n",
            "Enter the length of AB: 643\n",
            "Enter the length of AC: 754\n",
            "The length of BC (the hypotenuse) is: 990.941471530988\n",
            "Please enter an integer to be divided: 543\n",
            "Please enter an integer to divide by: 6432\n",
            "The result of this division is 0 with a remainder of 543\n",
            "Dice have 6 sides each.\n",
            "First die: 6\n",
            "Second die: 6\n",
            "Total of two dice: 12\n"
          ]
        }
      ]
    },
    {
      "cell_type": "code",
      "source": [
        "print(\"06_seconds_in_year\")\n",
        "\n",
        "import math\n",
        "\n",
        "def main():\n",
        "    # Get the two side lengths from the user and cast them to be numbers\n",
        "    ab: float = float(input(\"Enter the length of AB: \"))\n",
        "    ac: float = float(input(\"Enter the length of AC: \"))\n",
        "\n",
        "    # Calculate the hypotenuse using the two sides and print it out\n",
        "    bc: float = math.sqrt(ab**2 + ac**2)\n",
        "    print(\"The length of BC (the hypotenuse) is: \" + str(bc))\n",
        "\n",
        "    # Get the numbers we want to divide\n",
        "    dividend: int = int(input(\"Please enter an integer to be divided: \"))\n",
        "    divisor: int = int(int(input(\"Please enter an integer to divide by: \")))\n",
        "\n",
        "    quotient: int = dividend // divisor  # Divide with no remainder/decimals (integer division)\n",
        "    remainder: int = dividend % divisor  # Get the remainder of the division (modulo)\n",
        "\n",
        "    print(\"The result of this division is \" + str(quotient) + \" with a remainder of \" + str(remainder))#problem statement:  Simulate rolling two dice, and prints results of each roll as well as the total.\n",
        "    # Import the random library which lets us simulate random things like dice!\n",
        "    import random\n",
        "\n",
        "    # Number of sides on each die to roll\n",
        "    NUM_SIDES: int = 6\n",
        "\n",
        "    # Roll die\n",
        "    die1: int = random.randint(1, NUM_SIDES)\n",
        "    die2: int = random.randint(1, NUM_SIDES)\n",
        "\n",
        "    # Get their total\n",
        "    total: int = die1 + die2\n",
        "\n",
        "    # Print out the results\n",
        "    print(\"Dice have\", NUM_SIDES, \"sides each.\")\n",
        "    print(\"First die:\", die1)\n",
        "    print(\"Second die:\", die2)\n",
        "    print(\"Total of two dice:\", total)\n",
        "\n",
        "    # Useful constants to help make the math easier and cleaner!\n",
        "    DAYS_PER_YEAR: int = 365\n",
        "    HOURS_PER_DAY: int = 24\n",
        "    MIN_PER_HOUR: int = 60\n",
        "    SEC_PER_MIN: int = 60\n",
        "\n",
        "    # We can get the number of seconds per year by multiplying the handy constants above!\n",
        "    print(\"There are \" + str(DAYS_PER_YEAR * HOURS_PER_DAY * MIN_PER_HOUR * SEC_PER_MIN) + \" seconds in a year!\")\n",
        "\n",
        "if __name__ == '__main__':\n",
        "    main()\n",
        "\n",
        "\n"
      ],
      "metadata": {
        "colab": {
          "base_uri": "https://localhost:8080/"
        },
        "id": "bGTRS7z9zDLv",
        "outputId": "51133b22-8c74-40ec-a196-0a8e22ff57b1"
      },
      "execution_count": null,
      "outputs": [
        {
          "output_type": "stream",
          "name": "stdout",
          "text": [
            "06_seconds_in_year\n",
            "Enter the length of AB: 654\n",
            "Enter the length of AC: 976\n",
            "The length of BC (the hypotenuse) is: 1174.8582893268447\n",
            "Please enter an integer to be divided: 86\n",
            "Please enter an integer to divide by: 87\n",
            "The result of this division is 0 with a remainder of 86\n",
            "Dice have 6 sides each.\n",
            "First die: 3\n",
            "Second die: 5\n",
            "Total of two dice: 8\n",
            "There are 31536000 seconds in a year!\n"
          ]
        }
      ]
    },
    {
      "cell_type": "code",
      "source": [
        "print(\"07_tiny_mad_lib\")\n",
        "\n",
        "import math  # Import the math library so we can use the sqrt function\n",
        "\n",
        "def main():\n",
        "    # Get the two side lengths from the user and cast them to be numbers\n",
        "    ab: float = float(input(\"Enter the length of AB: \"))\n",
        "    ac: float = float(input(\"Enter the length of AC: \"))\n",
        "\n",
        "    # Calculate the hypotenuse using the two sides and print it out\n",
        "    bc: float = math.sqrt(ab**2 + ac**2)\n",
        "    print(\"The length of BC (the hypotenuse) is: \" + str(bc))\n",
        "\n",
        "    # Get the numbers we want to divide\n",
        "    dividend: int = int(input(\"Please enter an integer to be divided: \"))\n",
        "    divisor: int = int(int(input(\"Please enter an integer to divide by: \")))\n",
        "\n",
        "    quotient: int = dividend // divisor  # Divide with no remainder/decimals (integer division)\n",
        "    remainder: int = dividend % divisor  # Get the remainder of the division (modulo)\n",
        "\n",
        "    print(\"The result of this division is \" + str(quotient) + \" with a remainder of \" + str(remainder))#problem statement:  Simulate rolling two dice, and prints results of each roll as well as the total.\n",
        "    # Import the random library which lets us simulate random things like dice!\n",
        "    import random\n",
        "\n",
        "    # Number of sides on each die to roll\n",
        "    NUM_SIDES: int = 6\n",
        "\n",
        "    # Roll die\n",
        "    die1: int = random.randint(1, NUM_SIDES)\n",
        "    die2: int = random.randint(1, NUM_SIDES)\n",
        "\n",
        "    # Get their total\n",
        "    total: int = die1 + die2\n",
        "\n",
        "    # Print out the results\n",
        "    print(\"Dice have\", NUM_SIDES, \"sides each.\")\n",
        "    print(\"First die:\", die1)\n",
        "    print(\"Second die:\", die2)\n",
        "    print(\"Total of two dice:\", total)\n",
        "\n",
        "    # Useful constants to help make the math easier and cleaner!\n",
        "    DAYS_PER_YEAR: int = 365\n",
        "    HOURS_PER_DAY: int = 24\n",
        "    MIN_PER_HOUR: int = 60\n",
        "    SEC_PER_MIN: int = 60\n",
        "\n",
        "    # We can get the number of seconds per year by multiplying the handy constants above!\n",
        "    print(\"There are \" + str(DAYS_PER_YEAR * HOURS_PER_DAY * MIN_PER_HOUR * SEC_PER_MIN) + \" seconds in a year!\")\n",
        "\n",
        "\n",
        "    SENTENCE_START:\n",
        "    str = \"Panaversity is fun. I learned to program and used Python to make my \" # adjective noun verb\n",
        "\n",
        "    # Get the three inputs from the user to make the adlib\n",
        "    adjective: str = input(\"Please type an adjective and press enter. \")\n",
        "    noun: str = input(\"Please type a noun and press enter. \")\n",
        "    verb: str = input(\"Please type a verb and press enter. \")\n",
        "\n",
        "    # Join the inputs together with the sentence starter\n",
        "    print(SENTENCE_START + adjective + \" \" + noun + \" \" + verb + \"!\")\n",
        "\n",
        "if __name__ == '__main__':\n",
        "    main()\n"
      ],
      "metadata": {
        "colab": {
          "base_uri": "https://localhost:8080/"
        },
        "id": "ZUU8Kx2MzmCd",
        "outputId": "14401d74-f9fe-4c4f-ad15-529b8db76b7e"
      },
      "execution_count": null,
      "outputs": [
        {
          "output_type": "stream",
          "name": "stdout",
          "text": [
            "07_tiny_mad_lib\n",
            "Enter the length of AB: 75\n",
            "Enter the length of AC: 65\n",
            "The length of BC (the hypotenuse) is: 99.24716620639605\n",
            "Please enter an integer to be divided: 64\n",
            "Please enter an integer to divide by: 543\n",
            "The result of this division is 0 with a remainder of 64\n",
            "Dice have 6 sides each.\n",
            "First die: 6\n",
            "Second die: 5\n",
            "Total of two dice: 11\n",
            "There are 31536000 seconds in a year!\n",
            "Please type an adjective and press enter. 64\n",
            "Please type a noun and press enter. 98\n",
            "Please type a verb and press enter. 76\n",
            "Panaversity is fun. I learned to program and used Python to make my 64 98 76!\n"
          ]
        }
      ]
    }
  ]
}